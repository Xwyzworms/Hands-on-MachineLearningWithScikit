{
  "nbformat": 4,
  "nbformat_minor": 0,
  "metadata": {
    "colab": {
      "name": "RunningandtrainingaLinearModel.ipynb",
      "provenance": [],
      "collapsed_sections": []
    },
    "kernelspec": {
      "name": "python3",
      "display_name": "Python 3"
    }
  },
  "cells": [
    {
      "cell_type": "code",
      "metadata": {
        "id": "-htb6NpFITJJ",
        "colab_type": "code",
        "colab": {
          "base_uri": "https://localhost:8080/",
          "height": 54
        },
        "outputId": "1824fc45-86ac-4c47-ecf0-d093560f30db"
      },
      "source": [
        "from google.colab import drive ; drive.mount(\"/content/drive\")"
      ],
      "execution_count": 10,
      "outputs": [
        {
          "output_type": "stream",
          "text": [
            "Drive already mounted at /content/drive; to attempt to forcibly remount, call drive.mount(\"/content/drive\", force_remount=True).\n"
          ],
          "name": "stdout"
        }
      ]
    },
    {
      "cell_type": "code",
      "metadata": {
        "id": "b9l-Cs1wPtbK",
        "colab_type": "code",
        "colab": {}
      },
      "source": [
        "def prepare_country_stats(oecd , gdp_percapita):\n",
        "  \"\"\"\n",
        "This function just merges the OECD's life satisfaction data and the IMF's GDP per capita data.\n",
        "  \"\"\"\n",
        "  oecd = oecd[oecd[\"INEQUALITY\"] == \"TOT\"] ## Only Take Column  with TOT inequality\n",
        "  oecd = oecd.pivot(index = \"Country\",columns = \"Indicator\" , values = \"Value\") # Here's Link Can help you out # https://pandas.pydata.org/pandas-docs/stable/reference/api/pandas.DataFrame.pivot.html\n",
        "  \n",
        "  # Rename and merging\n",
        "  gdp_percapita.rename(columns = {\"2015\" : \"GDP per capita\"} , inplace = True) # {\"Old name : New name\" }\n",
        "  gdp_percapita.set_index(\"Country\" , inplace = True)\n",
        "  \n",
        "  full_country_stats = pd.merge(left = oecd , right = gdp_percapita ,\n",
        "                                left_index = True , right_index = True , how =\"inner\")\n",
        "  full_country_stats.sort_values(by = \"GDP per capita\" , inplace = True , ascending = False )\n",
        "  \n",
        "  # Removing Indices \n",
        "  remove_indices = [0 , 1 ,6 , 8, 33 , 34 ,35] # No idea why author remove thos rows/ i guess he want to randomize every cluster\n",
        "  keep_indices = list(set(range(36)) - set(remove_indices)) # only making sure that remove_indices is removed\n",
        "\n",
        "  return full_country_stats[[\"GDP per capita\",\"Life satisfaction\"]].iloc[keep_indices]"
      ],
      "execution_count": 67,
      "outputs": []
    },
    {
      "cell_type": "code",
      "metadata": {
        "id": "wiFtJAyrLsdl",
        "colab_type": "code",
        "colab": {
          "base_uri": "https://localhost:8080/",
          "height": 1000
        },
        "outputId": "d121c801-1d33-441f-837e-61a88d763325"
      },
      "source": [
        "import matplotlib.pyplot as plt # Visualization\n",
        "import pandas as pd # DataFrame Manipulation\n",
        "import numpy as np\n",
        "pd.set_option(\"max_columns\",None)\n",
        "from sklearn.linear_model import LinearRegression  # LinReg Model\n",
        "\n",
        "# Load The data\n",
        "oecd = pd.read_csv(\"/content/drive/My Drive/DataSet/oecd_bli_2015.csv\") \n",
        "gdp_percapita = pd.read_csv(\"/content/drive/My Drive/DataSet/gdp_per_capita.csv\",delimiter = \"\\t\" , thousands=\",\" , na_values = \"n/a\")\n",
        "# (Row , Column)\n",
        "print(oecd.shape , gdp_percapita.shape)\n",
        "\n",
        "# Let's See The data\n",
        "print(oecd.info())\n",
        "print(\"\\n\\n\",gdp_percapita.info())\n",
        "\n",
        "## Prepare the data\n",
        "country_stats = prepare_country_stats(oecd,gdp_percapita)\n",
        "X = country_stats[\"GDP per capita\"].values.reshape(-1,1) ## <<- My Favorite ,before shape (x,) to (x,1)\n",
        "X = np.c_[country_stats[\"GDP per capita\"]] ## Used By Author\n",
        "y = np.c_[country_stats[\"Life satisfaction\"]]\n",
        "\n",
        "# Visualize Data\n",
        "country_stats.plot(kind = \"scatter\" , x = \"GDP per capita\" , y = \"Life satisfaction\")\n",
        "plt.show()\n",
        "\n",
        "# Fit Linear Model\n",
        "model = LinearRegression().fit(X,y) \n",
        "\n",
        "# Make A prediction\n",
        "X_new =[[22587]]\n",
        "print(model.predict(X_new)) # [[6.0674857]] <<-- I dont know why different , author [[5.96242338]]\n"
      ],
      "execution_count": 78,
      "outputs": [
        {
          "output_type": "stream",
          "text": [
            "(3292, 17) (190, 7)\n",
            "<class 'pandas.core.frame.DataFrame'>\n",
            "RangeIndex: 3292 entries, 0 to 3291\n",
            "Data columns (total 17 columns):\n",
            " #   Column                 Non-Null Count  Dtype  \n",
            "---  ------                 --------------  -----  \n",
            " 0   LOCATION               3292 non-null   object \n",
            " 1   Country                3292 non-null   object \n",
            " 2   INDICATOR              3292 non-null   object \n",
            " 3   Indicator              3292 non-null   object \n",
            " 4   MEASURE                3292 non-null   object \n",
            " 5   Measure                3292 non-null   object \n",
            " 6   INEQUALITY             3292 non-null   object \n",
            " 7   Inequality             3292 non-null   object \n",
            " 8   Unit Code              3292 non-null   object \n",
            " 9   Unit                   3292 non-null   object \n",
            " 10  PowerCode Code         3292 non-null   int64  \n",
            " 11  PowerCode              3292 non-null   object \n",
            " 12  Reference Period Code  0 non-null      float64\n",
            " 13  Reference Period       0 non-null      float64\n",
            " 14  Value                  3292 non-null   float64\n",
            " 15  Flag Codes             1120 non-null   object \n",
            " 16  Flags                  1120 non-null   object \n",
            "dtypes: float64(3), int64(1), object(13)\n",
            "memory usage: 437.3+ KB\n",
            "None\n",
            "<class 'pandas.core.frame.DataFrame'>\n",
            "RangeIndex: 190 entries, 0 to 189\n",
            "Data columns (total 7 columns):\n",
            " #   Column                         Non-Null Count  Dtype  \n",
            "---  ------                         --------------  -----  \n",
            " 0   Country                        190 non-null    object \n",
            " 1   Subject Descriptor             189 non-null    object \n",
            " 2   Units                          189 non-null    object \n",
            " 3   Scale                          189 non-null    object \n",
            " 4   Country/Series-specific Notes  188 non-null    object \n",
            " 5   2015                           187 non-null    float64\n",
            " 6   Estimates Start After          188 non-null    float64\n",
            "dtypes: float64(2), object(5)\n",
            "memory usage: 10.5+ KB\n",
            "\n",
            "\n",
            " None\n"
          ],
          "name": "stdout"
        },
        {
          "output_type": "display_data",
          "data": {
            "image/png": "[encoded data removed]",
            "text/plain": [
              "<Figure size 432x288 with 1 Axes>"
            ]
          },
          "metadata": {
            "tags": [],
            "needs_background": "light"
          }
        },
        {
          "output_type": "stream",
          "text": [
            "[[6.0674857]]\n"
          ],
          "name": "stdout"
        }
      ]
    }
  ]
}